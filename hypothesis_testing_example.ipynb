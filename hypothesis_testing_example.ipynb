{
 "cells": [
  {
   "cell_type": "code",
   "execution_count": null,
   "metadata": {},
   "outputs": [],
   "source": [
    "\"\"\"\n",
    "Example of a significance test for a difference in means\n",
    "\"\"\"\n",
    "\n",
    "import numpy as np\n",
    "\n",
    "# Hypothetical Observed Data\n",
    "group_a = np.array([262, 316, 298, 320, 290, 322, 282, 318, 294, 306])\n",
    "group_b = np.array([306, 314, 338, 348, 350, 332, 342, 314, 336, 310])\n",
    "\n",
    "# Number of permutations\n",
    "number_of_permutations = 1000\n",
    "\n",
    "# Actual difference in means\n",
    "actual_diff = np.mean(group_b) - np.mean(group_a)\n",
    "\n",
    "# Create empty list to store permutation differences\n",
    "permuted_diffs = []\n",
    "\n",
    "# Permutation testing\n",
    "for _ in range(number_of_permutations):\n",
    "    # Pool the data and shuffle\n",
    "    pooled = np.concatenate([group_a, group_b])\n",
    "    np.random.shuffle(pooled)\n",
    "\n",
    "    # Split the pooled data into two groups\n",
    "    perm_a = pooled[:len(group_a)]\n",
    "    perm_b = pooled[len(group_a):]\n",
    "\n",
    "    # Calculate the difference in means and add to list\n",
    "    mean_diff = np.mean(perm_b) - np.mean(perm_a)\n",
    "    permuted_diffs.append(mean_diff)\n",
    "\n",
    "# Calculate the p-value\n",
    "# Number of permutated mean differences greater than or\n",
    "# Equal to actual_diff / total number of permutations\n",
    "p_val = np.sum(np.array(permuted_diffs) >=\n",
    "               actual_diff) / number_of_permutations\n",
    "\n",
    "print(f'actual difference: {actual_diff:.3f}')\n",
    "print(f'p-value: {p_val:.3f}')"
   ]
  }
 ],
 "metadata": {
  "kernelspec": {
   "display_name": "base",
   "language": "python",
   "name": "python3"
  },
  "language_info": {
   "codemirror_mode": {
    "name": "ipython",
    "version": 3
   },
   "file_extension": ".py",
   "mimetype": "text/x-python",
   "name": "python",
   "nbconvert_exporter": "python",
   "pygments_lexer": "ipython3",
   "version": "3.10.9"
  },
  "orig_nbformat": 4
 },
 "nbformat": 4,
 "nbformat_minor": 2
}
